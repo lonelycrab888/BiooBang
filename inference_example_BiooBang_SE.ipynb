{
 "cells": [
  {
   "cell_type": "code",
   "execution_count": null,
   "metadata": {},
   "outputs": [
    {
     "name": "stderr",
     "output_type": "stream",
     "text": [
      "/opt/user/hsj/anaconda3/envs/UniBioseq_torch211/lib/python3.10/site-packages/tqdm/auto.py:21: TqdmWarning: IProgress not found. Please update jupyter and ipywidgets. See https://ipywidgets.readthedocs.io/en/stable/user_install.html\n",
      "  from .autonotebook import tqdm as notebook_tqdm\n"
     ]
    },
    {
     "name": "stdout",
     "output_type": "stream",
     "text": [
      "[2024-08-01 14:51:07,778] [INFO] [real_accelerator.py:191:get_accelerator] Setting ds_accelerator to cuda (auto detect)\n"
     ]
    }
   ],
   "source": [
    "import torch\n",
    "from model.modeling_UniBioseq import UniBioseqForEmbedding\n",
    "from model.tokenization_UniBioseq import UBSLMTokenizer\n",
    "model_file = \"./load_files/BiooBang_FM\""
   ]
  },
  {
   "cell_type": "code",
   "execution_count": null,
   "metadata": {},
   "outputs": [
    {
     "name": "stderr",
     "output_type": "stream",
     "text": [
      "No vocab_list supplied for folding model, assuming the UBL vocabulary!\n"
     ]
    }
   ],
   "source": [
    "#init UniBioseqForEmbedding or UniBioseqForstructureEmbedding_convbert_MRL\n",
    "model_fm = UniBioseqForEmbedding.from_pretrained(model_file)\n",
    "tokenizer = UBSLMTokenizer.from_pretrained(model_file)\n",
    "input_seq = \"MTNSQALIKTLDFQLDIQSDNESLLYDATLEARSVYNQSIRLAKEGVDWNVIPDRVAEDASLVKNTIQRVVAKALGAMENYYEYDDYNKPSHTKDGTYPLRTNYEEGYNLSLTDDGDVAFRISAKPYKHVKGVLDGDDAHLDILKTALESDAWTIGTAEALFRNGNAELHVNVTSSEGTVRDKENSRTVVGVDVNEDNVALTALSKGSVEDTVVIEFPDIKFKRHRYFTMRKRVQNSGKDSIHDTLEGREERFVRDRLHKVSRHIVEWSRQFEKPCIVFEDLKEMRDGLDYGTRMNRRLHRLPFRALQHYTSYKAAFAGIPTAWINPEYTSQCCPMCGHTERSNRHKKRFKCQSCSHQDHADRSASVNIAVKGVEEYQEWTVPALNSLPVVRKVRRQASGAVDAPTVTHDAVRGYQTDGVAGVSD\"\n",
    "input_ids = torch.tensor([tokenizer.encode(input_seq)])\n",
    "#run model\n",
    "model_fm = model_fm.to(\"cuda\")\n",
    "result_fm = model_fm(input_ids.to(model_fm.device))['hidden_states'][0][1:-1] #UniBioseqForEmbedding"
   ]
  },
  {
   "cell_type": "code",
   "execution_count": null,
   "metadata": {},
   "outputs": [
    {
     "name": "stdout",
     "output_type": "stream",
     "text": [
      "True\n"
     ]
    }
   ],
   "source": [
    "#print if result shape == input length\n",
    "print(result_fm.shape[0]==len(input_seq))"
   ]
  }
 ],
 "metadata": {
  "kernelspec": {
   "display_name": "UniBioseq_torch211",
   "language": "python",
   "name": "python3"
  },
  "language_info": {
   "codemirror_mode": {
    "name": "ipython",
    "version": 3
   },
   "file_extension": ".py",
   "mimetype": "text/x-python",
   "name": "python",
   "nbconvert_exporter": "python",
   "pygments_lexer": "ipython3",
   "version": "3.10.13"
  }
 },
 "nbformat": 4,
 "nbformat_minor": 2
}
