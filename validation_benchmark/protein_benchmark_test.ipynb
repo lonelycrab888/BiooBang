{
 "cells": [
  {
   "cell_type": "code",
   "execution_count": null,
   "metadata": {},
   "outputs": [
    {
     "name": "stderr",
     "output_type": "stream",
     "text": [
      "/opt/user/hsj/anaconda3/envs/UniBioseq_torch211/lib/python3.10/site-packages/tqdm/auto.py:21: TqdmWarning: IProgress not found. Please update jupyter and ipywidgets. See https://ipywidgets.readthedocs.io/en/stable/user_install.html\n",
      "  from .autonotebook import tqdm as notebook_tqdm\n"
     ]
    },
    {
     "name": "stdout",
     "output_type": "stream",
     "text": [
      "[2025-01-15 03:02:19,980] [INFO] [real_accelerator.py:191:get_accelerator] Setting ds_accelerator to cuda (auto detect)\n"
     ]
    }
   ],
   "source": [
    "# import modules\n",
    "import torch\n",
    "from tqdm import tqdm\n",
    "from sklearn import metrics\n",
    "import numpy as np\n",
    "import pandas as pd\n",
    "import sys\n",
    "sys.path.append('../')\n",
    "from model.modeling_UniBioseq import UniBioseqForEmbedding, UniBioseqForSequenceClassification_convbert, UniBioseqForTokenClassification_convbert\n",
    "from model.tokenization_UniBioseq import UBSLMTokenizer"
   ]
  },
  {
   "cell_type": "markdown",
   "metadata": {},
   "source": [
    "# SolP"
   ]
  },
  {
   "cell_type": "code",
   "execution_count": null,
   "metadata": {},
   "outputs": [],
   "source": [
    "# get test data\n",
    "\n",
    "df = pd.read_csv(\"your_path/SolP/SolP.csv\")\n",
    "df = df[df['split']=='test'].reset_index(drop=True)\n",
    "sequences = list(df['sequence'])\n",
    "labels = list(df['labels'])"
   ]
  },
  {
   "cell_type": "code",
   "execution_count": null,
   "metadata": {},
   "outputs": [
    {
     "name": "stderr",
     "output_type": "stream",
     "text": [
      "No vocab_list supplied for folding model, assuming the UBL vocabulary!\n",
      "100%|██████████| 2001/2001 [01:36<00:00, 20.68it/s]"
     ]
    },
    {
     "name": "stdout",
     "output_type": "stream",
     "text": [
      "0.768615692153923\n"
     ]
    },
    {
     "name": "stderr",
     "output_type": "stream",
     "text": [
      "\n"
     ]
    }
   ],
   "source": [
    "# predict\n",
    "model_file = \"your_path/SolP_result/model_file\"\n",
    "device = \"cuda\"\n",
    "model = UniBioseqForSequenceClassification_convbert.from_pretrained(model_file)\n",
    "tokenizer = UBSLMTokenizer.from_pretrained(model_file)\n",
    "model.to(device)\n",
    "model.eval()\n",
    "preds = []\n",
    "for input_seq in tqdm(sequences):\n",
    "    input_ids = tokenizer(input_seq, return_tensors=\"pt\")['input_ids'].to(device)\n",
    "    with torch.no_grad():\n",
    "        preds.append(torch.sigmoid(model(input_ids)['logits'][0][0].cpu()).item()>0.5)\n",
    "\n",
    "print(metrics.accuracy_score(labels, preds))"
   ]
  },
  {
   "cell_type": "markdown",
   "metadata": {},
   "source": [
    "# LocP"
   ]
  },
  {
   "cell_type": "code",
   "execution_count": null,
   "metadata": {},
   "outputs": [],
   "source": [
    "# get test data\n",
    "df = pd.read_csv(\"your_path/LocP/df_test.csv\")\n",
    "sequences = list(df['seq'])\n",
    "labels = list(df['labels'])"
   ]
  },
  {
   "cell_type": "code",
   "execution_count": null,
   "metadata": {},
   "outputs": [
    {
     "name": "stderr",
     "output_type": "stream",
     "text": [
      "No vocab_list supplied for folding model, assuming the UBL vocabulary!\n",
      "100%|██████████| 1842/1842 [02:37<00:00, 11.68it/s]"
     ]
    },
    {
     "name": "stdout",
     "output_type": "stream",
     "text": [
      "0.8371335504885994\n"
     ]
    },
    {
     "name": "stderr",
     "output_type": "stream",
     "text": [
      "\n"
     ]
    }
   ],
   "source": [
    "# predict\n",
    "model_file = \"your_path/LocP_result/model_file\"\n",
    "device = \"cuda\"\n",
    "model = UniBioseqForSequenceClassification_convbert.from_pretrained(model_file)\n",
    "tokenizer = UBSLMTokenizer.from_pretrained(model_file)\n",
    "model.to(device)\n",
    "model.eval()\n",
    "preds = []\n",
    "for input_seq in tqdm(sequences):\n",
    "    input_ids = tokenizer(input_seq, return_tensors=\"pt\")['input_ids'].to(device)\n",
    "    with torch.no_grad():\n",
    "        preds.append(np.argmax(model(input_ids)['logits'].cpu().numpy()))\n",
    "\n",
    "print(metrics.accuracy_score(labels, preds))"
   ]
  },
  {
   "cell_type": "markdown",
   "metadata": {},
   "source": [
    "# FoldP"
   ]
  },
  {
   "cell_type": "code",
   "execution_count": null,
   "metadata": {},
   "outputs": [],
   "source": [
    "# get test data\n",
    "df = pd.read_csv(\"your_path/FoldP.csv\")\n",
    "df = df[df['split']=='test'].reset_index(drop=True)\n",
    "sequences = list(df['sequence'])\n",
    "labels = list(df['labels'])"
   ]
  },
  {
   "cell_type": "code",
   "execution_count": null,
   "metadata": {},
   "outputs": [
    {
     "name": "stderr",
     "output_type": "stream",
     "text": [
      "No vocab_list supplied for folding model, assuming the UBL vocabulary!\n",
      "100%|██████████| 1254/1254 [00:45<00:00, 27.50it/s]"
     ]
    },
    {
     "name": "stdout",
     "output_type": "stream",
     "text": [
      "0.6850079744816587\n"
     ]
    },
    {
     "name": "stderr",
     "output_type": "stream",
     "text": [
      "\n"
     ]
    }
   ],
   "source": [
    "# predict\n",
    "model_file = \"your_path/FoldP_result/model_file\"\n",
    "device = \"cuda\"\n",
    "model = UniBioseqForSequenceClassification_convbert.from_pretrained(model_file)\n",
    "tokenizer = UBSLMTokenizer.from_pretrained(model_file)\n",
    "model.to(device)\n",
    "model.eval()\n",
    "preds = []\n",
    "for input_seq in tqdm(sequences):\n",
    "    input_ids = tokenizer(input_seq, return_tensors=\"pt\")['input_ids'].to(device)\n",
    "    with torch.no_grad():\n",
    "        preds.append(np.argmax(model(input_ids)['logits'].cpu().numpy()))\n",
    "\n",
    "print(metrics.accuracy_score(labels, preds))"
   ]
  },
  {
   "cell_type": "markdown",
   "metadata": {},
   "source": [
    "# SSP3"
   ]
  },
  {
   "cell_type": "code",
   "execution_count": null,
   "metadata": {},
   "outputs": [],
   "source": [
    "# get test data\n",
    "df = pd.read_pickle(\"your_path/ssp3.pkl\")\n",
    "df_casp12 = df[df['split']=='casp12']\n",
    "df_casp14 = df[df['split']=='casp14']\n",
    "df_cb513 = df[df['split']=='cb513']\n",
    "df_ts115 = df[df['split']=='ts115']\n",
    "sequences_casp12 = list(df_casp12['sequence'])\n",
    "labels_casp12 = list(df_casp12['labels'])\n",
    "sequences_casp14 = list(df_casp14['sequence'])\n",
    "labels_casp14 = list(df_casp14['labels'])\n",
    "sequences_cb513 = list(df_cb513['sequence'])\n",
    "labels_cb513 = list(df_cb513['labels'])\n",
    "sequences_ts115 = list(df_ts115['sequence'])\n",
    "labels_ts115 = list(df_ts115['labels'])\n",
    "def get_labels(labels):\n",
    "    labels_list = []\n",
    "    for i in labels:\n",
    "        labels_list+=i\n",
    "    labels_np = np.array(labels_list)\n",
    "    labels_index = labels_np!=-100\n",
    "    labels_cal = labels_np[labels_index]\n",
    "    labels_cal[labels_cal == 3] = 2\n",
    "    labels_cal[labels_cal == 1] = 0\n",
    "    labels_cal[labels_cal == 4] = 1\n",
    "    return labels_cal, labels_index"
   ]
  },
  {
   "cell_type": "code",
   "execution_count": null,
   "metadata": {},
   "outputs": [
    {
     "name": "stderr",
     "output_type": "stream",
     "text": [
      "No vocab_list supplied for folding model, assuming the UBL vocabulary!\n",
      "100%|██████████| 20/20 [00:01<00:00, 18.11it/s]"
     ]
    },
    {
     "name": "stdout",
     "output_type": "stream",
     "text": [
      "0.8174550299800133\n"
     ]
    },
    {
     "name": "stderr",
     "output_type": "stream",
     "text": [
      "\n"
     ]
    }
   ],
   "source": [
    "# predict & calculate accuracy\n",
    "model_file = \"your_path/ssp3_result/model_file\"\n",
    "device = \"cuda\"\n",
    "model = UniBioseqForTokenClassification_convbert.from_pretrained(model_file)\n",
    "tokenizer = UBSLMTokenizer.from_pretrained(model_file)\n",
    "model.to(device)\n",
    "model.eval()\n",
    "preds = []\n",
    "for input_seq in tqdm(sequences_casp12):\n",
    "    input_ids = tokenizer(input_seq, return_tensors=\"pt\")['input_ids'].to(device)\n",
    "    with torch.no_grad():\n",
    "        outputs = model(input_ids)['logits'][0].cpu().numpy()\n",
    "        pred = np.argmax(outputs, axis=1).tolist()\n",
    "        preds += pred\n",
    "preds = np.array(preds)\n",
    "labels_cal = get_labels(labels_casp12)[0]\n",
    "preds_cal = preds[get_labels(labels_casp12)[1]]\n",
    "print(metrics.accuracy_score(labels_cal, preds_cal))"
   ]
  }
 ],
 "metadata": {
  "kernelspec": {
   "display_name": "UniBioseq_torch211",
   "language": "python",
   "name": "python3"
  },
  "language_info": {
   "codemirror_mode": {
    "name": "ipython",
    "version": 3
   },
   "file_extension": ".py",
   "mimetype": "text/x-python",
   "name": "python",
   "nbconvert_exporter": "python",
   "pygments_lexer": "ipython3",
   "version": "3.10.13"
  }
 },
 "nbformat": 4,
 "nbformat_minor": 2
}
